{
 "cells": [
  {
   "cell_type": "markdown",
   "metadata": {},
   "source": [
    "## Uber Challenge\n",
    "\n",
    "### Question 3 - Modeling\n",
    "\n",
    "Uber’s Driver team is interested in predicting which driver signups are most likely to start driving.\n",
    "To help explore this question, we have provided a sample dataset of a cohort of driver signups.\n",
    "The data was pulled a some time after they signed up to include the result of whether they\n",
    "actually completed their first trip. It also includes several pieces of background information\n",
    "gathered about the driver and their car.\n",
    "We would like you to use this data set to help understand what factors are best at predicting\n",
    "whether a signup will start to drive within 30 days of signing up, and offer suggestions to\n",
    "operationalize those insights to help Uber.\n",
    "See below for a description of the dataset. Please include any code you wrote for the analysis\n",
    "and delete the dataset when you have finished with the challenge. Please also call out any data\n",
    "related assumptions or issues that you encounter.\n",
    "\n",
    "\n",
    "### Part A\n",
    "Perform any cleaning, exploratory analysis, and/or visualizations to use the provided data for this\n",
    "analysis (a few sentences/plots describing your approach will suffice). What fraction of the driver\n",
    "signups took a first trip within 30 days of signing up?\n",
    "\n",
    "### Part B\n",
    "Build a predictive model to help Uber determine whether or not a driver signup will start driving\n",
    "within 30 days of signing up. Discuss why you chose your approach, what alternatives you\n",
    "considered, and any concerns you have. How valid is your model? Include any key indicators of\n",
    "model performance.\n",
    "\n",
    "### Part C\n",
    "Briefly discuss how Uber might leverage the insights gained from the model to generate more\n",
    "first trips (again, a few ideas/sentences will suffice)."
   ]
  },
  {
   "cell_type": "markdown",
   "metadata": {},
   "source": [
    "#### Data set description\n",
    "- id: driver_id\n",
    "- city_name : city that this user signed up in\n",
    "- signup_os : signup device of the user\n",
    "- signup_channel : what channel did the driver sign up from\n",
    "- signup_timestamp : timestamp of account creation\n",
    "- bgc_date : timestamp when driver consented to background check\n",
    "- vehicle_added_date : timestamp when driver’s vehicle information was uploaded\n",
    "- vehicle_make: make of vehicle uploaded\n",
    "- vehicle_model: model of vehicle uploaded\n",
    "- vehicle_year: year that the car was made\n",
    "- first_trip_date : timestamp of the first trip as a driver"
   ]
  },
  {
   "cell_type": "code",
   "execution_count": 1,
   "metadata": {},
   "outputs": [],
   "source": [
    "import pandas as pd\n",
    "import numpy as np\n",
    "import matplotlib.pyplot as plt\n",
    "import seaborn as sns\n",
    "%matplotlib inline\n",
    "from sklearn.preprocessing import StandardScaler\n",
    "import time\n",
    "from sklearn.ensemble import RandomForestClassifier\n",
    "from sklearn.datasets import make_classification\n",
    "from sklearn.neighbors import KNeighborsClassifier\n",
    "from sklearn.metrics import confusion_matrix\n",
    "from sklearn.metrics import classification_report\n",
    "from sklearn import svm\n",
    "from sklearn.ensemble import GradientBoostingClassifier\n",
    "from sklearn.model_selection import train_test_split\n",
    "from sklearn.linear_model import LogisticRegression\n",
    "from sklearn.metrics import accuracy_score\n",
    "from sklearn.model_selection import GridSearchCV\n",
    "from sklearn.ensemble import AdaBoostClassifier\n",
    "from sklearn.model_selection import cross_val_score\n",
    "from sklearn.metrics import roc_curve, auc\n",
    "from sklearn.metrics import recall_score\n",
    "from sklearn.metrics import log_loss\n",
    "from sklearn.metrics import average_precision_score"
   ]
  },
  {
   "cell_type": "code",
   "execution_count": 2,
   "metadata": {},
   "outputs": [
    {
     "name": "stdout",
     "output_type": "stream",
     "text": [
      "(12357, 11)\n"
     ]
    },
    {
     "data": {
      "text/html": [
       "<div>\n",
       "<style scoped>\n",
       "    .dataframe tbody tr th:only-of-type {\n",
       "        vertical-align: middle;\n",
       "    }\n",
       "\n",
       "    .dataframe tbody tr th {\n",
       "        vertical-align: top;\n",
       "    }\n",
       "\n",
       "    .dataframe thead th {\n",
       "        text-align: right;\n",
       "    }\n",
       "</style>\n",
       "<table border=\"1\" class=\"dataframe\">\n",
       "  <thead>\n",
       "    <tr style=\"text-align: right;\">\n",
       "      <th></th>\n",
       "      <th>id</th>\n",
       "      <th>city_name</th>\n",
       "      <th>signup_os</th>\n",
       "      <th>signup_channel</th>\n",
       "      <th>signup_timestamp</th>\n",
       "      <th>bgc_date</th>\n",
       "      <th>vehicle_added_date</th>\n",
       "      <th>vehicle_make</th>\n",
       "      <th>vehicle_model</th>\n",
       "      <th>vehicle_year</th>\n",
       "      <th>first_completed_trip_timestamp</th>\n",
       "    </tr>\n",
       "  </thead>\n",
       "  <tbody>\n",
       "    <tr>\n",
       "      <th>0</th>\n",
       "      <td>082befb0-c1de-4c14-8700-94a7943a7545</td>\n",
       "      <td>Strark</td>\n",
       "      <td>NaN</td>\n",
       "      <td>R2D</td>\n",
       "      <td>2017-07-06T20:42:17Z</td>\n",
       "      <td>NaN</td>\n",
       "      <td>2017-07-06T20:42:56Z</td>\n",
       "      <td>Volkswagen</td>\n",
       "      <td>CC</td>\n",
       "      <td>2012</td>\n",
       "      <td>NaN</td>\n",
       "    </tr>\n",
       "    <tr>\n",
       "      <th>1</th>\n",
       "      <td>1ae6156f-63fc-40cf-9734-0995978c4b6e</td>\n",
       "      <td>Berton</td>\n",
       "      <td>ios web</td>\n",
       "      <td>Dost</td>\n",
       "      <td>2017-07-03T17:41:07Z</td>\n",
       "      <td>2017-07-03T17:42:06Z</td>\n",
       "      <td>2017-07-03T17:41:14Z</td>\n",
       "      <td>Toyota</td>\n",
       "      <td>4Runner</td>\n",
       "      <td>2003</td>\n",
       "      <td>2017-07-23T00:26:50Z</td>\n",
       "    </tr>\n",
       "    <tr>\n",
       "      <th>2</th>\n",
       "      <td>2a4a4eef-14ef-4ceb-82eb-66f1f7d0d219</td>\n",
       "      <td>Berton</td>\n",
       "      <td>NaN</td>\n",
       "      <td>R2D</td>\n",
       "      <td>2017-07-10T22:55:29Z</td>\n",
       "      <td>NaN</td>\n",
       "      <td>2017-07-11T17:44:44Z</td>\n",
       "      <td>Hyundai</td>\n",
       "      <td>Elantra</td>\n",
       "      <td>2015</td>\n",
       "      <td>NaN</td>\n",
       "    </tr>\n",
       "    <tr>\n",
       "      <th>3</th>\n",
       "      <td>56fe7597-3ad8-4798-8be8-5fbc4e2d3151</td>\n",
       "      <td>Berton</td>\n",
       "      <td>ios web</td>\n",
       "      <td>Referral</td>\n",
       "      <td>2017-07-27T18:27:21Z</td>\n",
       "      <td>2017-07-27T18:31:43Z</td>\n",
       "      <td>2017-07-27T18:31:09Z</td>\n",
       "      <td>Honda</td>\n",
       "      <td>Civic</td>\n",
       "      <td>2017</td>\n",
       "      <td>2017-07-31T04:07:24Z</td>\n",
       "    </tr>\n",
       "    <tr>\n",
       "      <th>4</th>\n",
       "      <td>67370341-68a5-415f-acf2-be58832a8f9c</td>\n",
       "      <td>Wrouver</td>\n",
       "      <td>other</td>\n",
       "      <td>Referral</td>\n",
       "      <td>2017-07-17T22:20:35Z</td>\n",
       "      <td>2017-07-17T22:21:09Z</td>\n",
       "      <td>2017-07-17T22:20:53Z</td>\n",
       "      <td>Honda</td>\n",
       "      <td>Accord</td>\n",
       "      <td>1999</td>\n",
       "      <td>NaN</td>\n",
       "    </tr>\n",
       "  </tbody>\n",
       "</table>\n",
       "</div>"
      ],
      "text/plain": [
       "                                     id city_name signup_os signup_channel  \\\n",
       "0  082befb0-c1de-4c14-8700-94a7943a7545    Strark       NaN            R2D   \n",
       "1  1ae6156f-63fc-40cf-9734-0995978c4b6e    Berton   ios web           Dost   \n",
       "2  2a4a4eef-14ef-4ceb-82eb-66f1f7d0d219    Berton       NaN            R2D   \n",
       "3  56fe7597-3ad8-4798-8be8-5fbc4e2d3151    Berton   ios web       Referral   \n",
       "4  67370341-68a5-415f-acf2-be58832a8f9c   Wrouver     other       Referral   \n",
       "\n",
       "       signup_timestamp              bgc_date    vehicle_added_date  \\\n",
       "0  2017-07-06T20:42:17Z                   NaN  2017-07-06T20:42:56Z   \n",
       "1  2017-07-03T17:41:07Z  2017-07-03T17:42:06Z  2017-07-03T17:41:14Z   \n",
       "2  2017-07-10T22:55:29Z                   NaN  2017-07-11T17:44:44Z   \n",
       "3  2017-07-27T18:27:21Z  2017-07-27T18:31:43Z  2017-07-27T18:31:09Z   \n",
       "4  2017-07-17T22:20:35Z  2017-07-17T22:21:09Z  2017-07-17T22:20:53Z   \n",
       "\n",
       "  vehicle_make vehicle_model  vehicle_year first_completed_trip_timestamp  \n",
       "0   Volkswagen            CC          2012                            NaN  \n",
       "1       Toyota       4Runner          2003           2017-07-23T00:26:50Z  \n",
       "2      Hyundai       Elantra          2015                            NaN  \n",
       "3        Honda         Civic          2017           2017-07-31T04:07:24Z  \n",
       "4        Honda        Accord          1999                            NaN  "
      ]
     },
     "execution_count": 2,
     "metadata": {},
     "output_type": "execute_result"
    }
   ],
   "source": [
    "df=pd.read_csv('Product PA and DS Dataset.csv')\n",
    "print(df.shape)\n",
    "df.head()"
   ]
  },
  {
   "cell_type": "code",
   "execution_count": 3,
   "metadata": {},
   "outputs": [
    {
     "name": "stdout",
     "output_type": "stream",
     "text": [
      "There are 12357 observations and 11 features in this dataset. \n",
      "\n"
     ]
    }
   ],
   "source": [
    "print(\"There are {} observations and {} features in this dataset. \\n\".format(df.shape[0],df.shape[1]))"
   ]
  },
  {
   "cell_type": "code",
   "execution_count": 4,
   "metadata": {},
   "outputs": [
    {
     "name": "stdout",
     "output_type": "stream",
     "text": [
      "<class 'pandas.core.frame.DataFrame'>\n",
      "RangeIndex: 12357 entries, 0 to 12356\n",
      "Data columns (total 11 columns):\n",
      "id                                12357 non-null object\n",
      "city_name                         12357 non-null object\n",
      "signup_os                         6953 non-null object\n",
      "signup_channel                    11143 non-null object\n",
      "signup_timestamp                  11194 non-null object\n",
      "bgc_date                          7803 non-null object\n",
      "vehicle_added_date                11121 non-null object\n",
      "vehicle_make                      11727 non-null object\n",
      "vehicle_model                     12357 non-null object\n",
      "vehicle_year                      12357 non-null int64\n",
      "first_completed_trip_timestamp    6790 non-null object\n",
      "dtypes: int64(1), object(10)\n",
      "memory usage: 1.0+ MB\n"
     ]
    }
   ],
   "source": [
    "df.info()"
   ]
  },
  {
   "cell_type": "markdown",
   "metadata": {},
   "source": [
    "### Part A: Data Cleaning, Exploratory data analysis and Visualization\n",
    "\n",
    "\n",
    "** Drop the rows without signup timestamp. Dropping the duplicate rows.**"
   ]
  },
  {
   "cell_type": "code",
   "execution_count": 5,
   "metadata": {},
   "outputs": [
    {
     "name": "stdout",
     "output_type": "stream",
     "text": [
      "Number of duplicated rows: 379\n"
     ]
    }
   ],
   "source": [
    "df.drop_duplicates(inplace=True)\n",
    "print('Number of duplicated rows:', 12357-df.shape[0])"
   ]
  },
  {
   "cell_type": "code",
   "execution_count": 6,
   "metadata": {},
   "outputs": [
    {
     "name": "stdout",
     "output_type": "stream",
     "text": [
      "Number of rows without signup timestamp: 1155\n",
      "(10823, 11)\n"
     ]
    }
   ],
   "source": [
    "NaNTime=list(df[df['signup_timestamp'].isnull()==True].index)\n",
    "df.drop(NaNTime,inplace=True)\n",
    "print('Number of rows without signup timestamp:',12357-379-df.shape[0])\n",
    "print(df.shape)"
   ]
  },
  {
   "cell_type": "code",
   "execution_count": 7,
   "metadata": {},
   "outputs": [
    {
     "data": {
      "text/plain": [
       "10601"
      ]
     },
     "execution_count": 7,
     "metadata": {},
     "output_type": "execute_result"
    }
   ],
   "source": [
    "df.id.nunique()"
   ]
  },
  {
   "cell_type": "code",
   "execution_count": 8,
   "metadata": {},
   "outputs": [
    {
     "name": "stdout",
     "output_type": "stream",
     "text": [
      "Number of duplicated id and same signup_timestamp: 222\n"
     ]
    }
   ],
   "source": [
    "print('Number of duplicated id and same signup_timestamp:',len(df[df[['id','signup_timestamp']].duplicated()]['id']))"
   ]
  },
  {
   "cell_type": "code",
   "execution_count": 9,
   "metadata": {},
   "outputs": [
    {
     "data": {
      "text/plain": [
       "(10601, 11)"
      ]
     },
     "execution_count": 9,
     "metadata": {},
     "output_type": "execute_result"
    }
   ],
   "source": [
    "df.drop_duplicates(subset=['id','signup_timestamp'],inplace=True)\n",
    "df.shape"
   ]
  },
  {
   "cell_type": "markdown",
   "metadata": {},
   "source": [
    "#### If for an observation a background date is not provided, change it to its signup_timestamp."
   ]
  },
  {
   "cell_type": "code",
   "execution_count": 10,
   "metadata": {},
   "outputs": [],
   "source": [
    "df.loc[df['bgc_date'].isnull(),'bgc_date']=df[df['bgc_date'].isnull()]['signup_timestamp']"
   ]
  },
  {
   "cell_type": "markdown",
   "metadata": {},
   "source": [
    "#### If for an observation the vehicle added date is not provided, change it to its bgc_date."
   ]
  },
  {
   "cell_type": "code",
   "execution_count": 11,
   "metadata": {},
   "outputs": [],
   "source": [
    "df.loc[df['vehicle_added_date'].isnull(),'vehicle_added_date']=df[df['vehicle_added_date'].isnull()]['signup_timestamp']"
   ]
  },
  {
   "cell_type": "markdown",
   "metadata": {},
   "source": [
    "#### Change columns with time provided information to pandas datetime format."
   ]
  },
  {
   "cell_type": "code",
   "execution_count": 12,
   "metadata": {},
   "outputs": [],
   "source": [
    "df['signup_timestamp']=pd.to_datetime(df['signup_timestamp'])\n",
    "df['vehicle_added_date']=pd.to_datetime(df['vehicle_added_date'])\n",
    "df['bgc_date']=pd.to_datetime(df['bgc_date'])\n",
    "df['first_completed_trip_timestamp']=pd.to_datetime(df['first_completed_trip_timestamp'])"
   ]
  },
  {
   "cell_type": "code",
   "execution_count": 13,
   "metadata": {},
   "outputs": [
    {
     "name": "stdout",
     "output_type": "stream",
     "text": [
      "years of registeration: [2017]\n",
      "months of registeration: [7]\n"
     ]
    }
   ],
   "source": [
    "print('years of registeration:',list(df.signup_timestamp.dt.year.unique()))\n",
    "print('months of registeration:',list(df.signup_timestamp.dt.month.unique()))"
   ]
  },
  {
   "cell_type": "markdown",
   "metadata": {},
   "source": [
    "#### All the registerations were on July 2017."
   ]
  },
  {
   "cell_type": "code",
   "execution_count": 14,
   "metadata": {},
   "outputs": [
    {
     "data": {
      "image/png": "[encoded data removed]",
      "text/plain": [
       "<Figure size 432x288 with 1 Axes>"
      ]
     },
     "metadata": {},
     "output_type": "display_data"
    }
   ],
   "source": [
    "a=sns.countplot(df.signup_timestamp.dt.dayofweek,palette=\"rocket\")\n",
    "a.set_xticklabels(['Mon','Tue','Wed','Thur','Fri','Sat','Sun'])\n",
    "plt.show()"
   ]
  },
  {
   "cell_type": "markdown",
   "metadata": {},
   "source": [
    "#### The registerations happened mostly on Monday."
   ]
  },
  {
   "cell_type": "code",
   "execution_count": 15,
   "metadata": {},
   "outputs": [
    {
     "data": {
      "image/png": "[encoded data removed]",
      "text/plain": [
       "<Figure size 1440x720 with 1 Axes>"
      ]
     },
     "metadata": {},
     "output_type": "display_data"
    }
   ],
   "source": [
    "plt.figure(figsize=(20,10))\n",
    "sns.countplot(df.signup_timestamp.dt.day,palette=\"vlag\")\n",
    "plt.show()"
   ]
  },
  {
   "cell_type": "markdown",
   "metadata": {},
   "source": [
    "#### There is not any special trend in the above plot. (Number of registerations on each day of the month.)"
   ]
  },
  {
   "cell_type": "code",
   "execution_count": 16,
   "metadata": {},
   "outputs": [
    {
     "data": {
      "image/png": "[encoded data removed]",
      "text/plain": [
       "<Figure size 1440x720 with 1 Axes>"
      ]
     },
     "metadata": {},
     "output_type": "display_data"
    }
   ],
   "source": [
    "plt.figure(figsize=(20,10))\n",
    "sns.countplot(df.signup_timestamp.dt.hour,palette=\"vlag\")\n",
    "plt.show()"
   ]
  },
  {
   "cell_type": "markdown",
   "metadata": {},
   "source": [
    "#### It is interesting that most signups have happened in non-working hours."
   ]
  },
  {
   "cell_type": "code",
   "execution_count": 17,
   "metadata": {},
   "outputs": [
    {
     "data": {
      "image/png": "[encoded data removed]",
      "text/plain": [
       "<Figure size 432x288 with 1 Axes>"
      ]
     },
     "metadata": {},
     "output_type": "display_data"
    }
   ],
   "source": [
    "a=sns.countplot(df.first_completed_trip_timestamp.dt.dayofweek,palette=\"rocket\")\n",
    "a.set_xticklabels(['Mon','Tue','Wed','Thur','Fri','Sat','Sun'])\n",
    "plt.show()"
   ]
  },
  {
   "cell_type": "markdown",
   "metadata": {},
   "source": [
    "#### The above plot shows the weekly trend for the first completed trip timestamp."
   ]
  },
  {
   "cell_type": "markdown",
   "metadata": {},
   "source": [
    "### Countplot for the city that user signed up"
   ]
  },
  {
   "cell_type": "code",
   "execution_count": 18,
   "metadata": {},
   "outputs": [
    {
     "name": "stdout",
     "output_type": "stream",
     "text": [
      "Strark     5928\n",
      "Berton     3265\n",
      "Wrouver    1408\n",
      "Name: city_name, dtype: int64\n"
     ]
    },
    {
     "data": {
      "image/png": "[encoded data removed]",
      "text/plain": [
       "<Figure size 432x288 with 1 Axes>"
      ]
     },
     "metadata": {},
     "output_type": "display_data"
    }
   ],
   "source": [
    "print(df['city_name'].value_counts())\n",
    "sns.countplot(df['city_name'],palette=\"rocket\")\n",
    "plt.show()"
   ]
  },
  {
   "cell_type": "code",
   "execution_count": 19,
   "metadata": {},
   "outputs": [
    {
     "name": "stdout",
     "output_type": "stream",
     "text": [
      "0.5591925290066975\n",
      "0.3079898122818602\n",
      "0.13281765871144233\n"
     ]
    }
   ],
   "source": [
    "print(sum(df['city_name']=='Strark')/len(df['city_name']))\n",
    "print(sum(df['city_name']=='Berton')/len(df['city_name']))\n",
    "print(sum(df['city_name']=='Wrouver')/len(df['city_name']))"
   ]
  },
  {
   "cell_type": "markdown",
   "metadata": {},
   "source": [
    "#### 56% signed up in Strak city, 31% in Berton, and 13% in Wrouver."
   ]
  },
  {
   "cell_type": "code",
   "execution_count": 20,
   "metadata": {},
   "outputs": [
    {
     "name": "stdout",
     "output_type": "stream",
     "text": [
      "Fraction of the drivers who have their first trip within 30 days: 53.6741816809735 %\n"
     ]
    }
   ],
   "source": [
    "LenSign=sum(df['signup_timestamp'].notnull()) #total number of drivers with signup_timestamp\n",
    "print('Fraction of the drivers who have their first trip within 30 days:',\n",
    "(sum(((df['first_completed_trip_timestamp']-df['signup_timestamp']).dt.days)<30)/LenSign)*100,'%')"
   ]
  },
  {
   "cell_type": "markdown",
   "metadata": {},
   "source": [
    "###  <span style=\"color:salmon\"> Around 53.67% of the drivers have started their trip within 30 days."
   ]
  },
  {
   "cell_type": "markdown",
   "metadata": {},
   "source": [
    "### Countplot for signup device of the user"
   ]
  },
  {
   "cell_type": "code",
   "execution_count": 21,
   "metadata": {},
   "outputs": [
    {
     "data": {
      "image/png": "[encoded data removed]",
      "text/plain": [
       "<Figure size 432x288 with 1 Axes>"
      ]
     },
     "metadata": {},
     "output_type": "display_data"
    },
    {
     "name": "stdout",
     "output_type": "stream",
     "text": [
      "Percent of missing values: 43.70342420526365\n"
     ]
    }
   ],
   "source": [
    "sns.countplot(df['signup_os'],palette=\"rocket\")\n",
    "plt.show()\n",
    "print('Percent of missing values:',sum(df['signup_os'].isnull())/len(df['signup_os'])*100)"
   ]
  },
  {
   "cell_type": "markdown",
   "metadata": {},
   "source": [
    "#### More than 43.7% of the signup device of the user is missing. I have to figure out is it worthy to keep this column or not. But for now I just fill the NaN values with 'ios web'."
   ]
  },
  {
   "cell_type": "code",
   "execution_count": 22,
   "metadata": {},
   "outputs": [],
   "source": [
    "df['signup_os'].fillna('ios Web', inplace=True)"
   ]
  },
  {
   "cell_type": "markdown",
   "metadata": {},
   "source": [
    "### Countplot for signup_channel"
   ]
  },
  {
   "cell_type": "code",
   "execution_count": 23,
   "metadata": {},
   "outputs": [
    {
     "data": {
      "image/png": "[encoded data removed]",
      "text/plain": [
       "<Figure size 432x288 with 1 Axes>"
      ]
     },
     "metadata": {},
     "output_type": "display_data"
    },
    {
     "name": "stdout",
     "output_type": "stream",
     "text": [
      "Percent of missing values: 9.89529289689652\n"
     ]
    }
   ],
   "source": [
    "sns.countplot(df['signup_channel'],palette=\"rocket\")\n",
    "plt.show()\n",
    "print('Percent of missing values:',sum(df['signup_channel'].isnull())/len(df['signup_channel'])*100)"
   ]
  },
  {
   "cell_type": "code",
   "execution_count": 24,
   "metadata": {},
   "outputs": [],
   "source": [
    "df['signup_channel'].fillna('Referral', inplace=True)"
   ]
  },
  {
   "cell_type": "markdown",
   "metadata": {},
   "source": [
    "#### Around 10% of the signup_channel is missing, I filled the NaN values with the most popular category which is 'Referral'."
   ]
  },
  {
   "cell_type": "markdown",
   "metadata": {},
   "source": [
    "### Countplot for the vehicle make "
   ]
  },
  {
   "cell_type": "code",
   "execution_count": 25,
   "metadata": {},
   "outputs": [
    {
     "name": "stdout",
     "output_type": "stream",
     "text": [
      "Number of Unique type of vehicles: 47\n"
     ]
    },
    {
     "data": {
      "image/png": "[encoded data removed]",
      "text/plain": [
       "<Figure size 1440x720 with 1 Axes>"
      ]
     },
     "metadata": {},
     "output_type": "display_data"
    },
    {
     "name": "stdout",
     "output_type": "stream",
     "text": [
      "Percent of missing values: 5.065559852844071\n"
     ]
    }
   ],
   "source": [
    "print('Number of Unique type of vehicles:',df['vehicle_make'].nunique())\n",
    "plt.figure(figsize=(20,10))\n",
    "df['vehicle_make'].value_counts().plot(kind='bar',color='Navy')\n",
    "plt.show()\n",
    "print('Percent of missing values:',sum(df['vehicle_make'].isnull())/len(df['vehicle_make'])*100)"
   ]
  },
  {
   "cell_type": "code",
   "execution_count": 26,
   "metadata": {},
   "outputs": [],
   "source": [
    "df['vehicle_make'].fillna('Toyota', inplace=True)"
   ]
  },
  {
   "cell_type": "markdown",
   "metadata": {},
   "source": [
    "#### I fill the 5% NaN values of this column with 'Toyota' which is the most popular one."
   ]
  },
  {
   "cell_type": "code",
   "execution_count": 27,
   "metadata": {},
   "outputs": [
    {
     "name": "stdout",
     "output_type": "stream",
     "text": [
      "Total number of unique vehicle models: 473\n",
      "Percent of missing values: 0.0\n"
     ]
    }
   ],
   "source": [
    "print('Total number of unique vehicle models:',df['vehicle_model'].nunique())\n",
    "print('Percent of missing values:',sum(df['vehicle_model'].isnull())/len(df['vehicle_model'])*100) #no missing values"
   ]
  },
  {
   "cell_type": "markdown",
   "metadata": {},
   "source": [
    "#### 473 unique vehicle models are presented."
   ]
  },
  {
   "cell_type": "markdown",
   "metadata": {},
   "source": [
    "### Histogram of the vehicle year"
   ]
  },
  {
   "cell_type": "code",
   "execution_count": 28,
   "metadata": {},
   "outputs": [
    {
     "data": {
      "image/png": "[encoded data removed]",
      "text/plain": [
       "<Figure size 432x288 with 1 Axes>"
      ]
     },
     "metadata": {},
     "output_type": "display_data"
    }
   ],
   "source": [
    "df['vehicle_year'].hist(bins=26)\n",
    "plt.show()"
   ]
  },
  {
   "cell_type": "code",
   "execution_count": 29,
   "metadata": {},
   "outputs": [
    {
     "name": "stdout",
     "output_type": "stream",
     "text": [
      "Total number of unique vehicle year: 26\n",
      "Percent of missing values: 0.0\n"
     ]
    }
   ],
   "source": [
    "print('Total number of unique vehicle year:',df['vehicle_year'].nunique())\n",
    "print('Percent of missing values:',sum(df['vehicle_year'].isnull())/len(df['vehicle_year'])*100) #no missing values"
   ]
  },
  {
   "cell_type": "markdown",
   "metadata": {},
   "source": [
    "#### Most vehicles were made between the years 2014 to 2016."
   ]
  },
  {
   "cell_type": "markdown",
   "metadata": {},
   "source": [
    "### Part B\n",
    "Build a predictive model to help Uber determine whether or not a driver signup will start driving\n",
    "within 30 days of signing up. Discuss why you chose your approach, what alternatives you\n",
    "considered, and any concerns you have. How valid is your model? Include any key indicators of\n",
    "model performance."
   ]
  },
  {
   "cell_type": "markdown",
   "metadata": {},
   "source": [
    "#### Steps:\n",
    "####  <span style=\"color:darkblue\"> 1. First I make a 'Target' columns. If the trip happens within 30 days the Target=1, otherwise it is 0."
   ]
  },
  {
   "cell_type": "code",
   "execution_count": 30,
   "metadata": {},
   "outputs": [
    {
     "data": {
      "text/plain": [
       "1    5690\n",
       "0    4911\n",
       "dtype: int64"
      ]
     },
     "execution_count": 30,
     "metadata": {},
     "output_type": "execute_result"
    }
   ],
   "source": [
    "y=(((df['first_completed_trip_timestamp']-df['signup_timestamp']).dt.days)<30)*1\n",
    "y.value_counts()"
   ]
  },
  {
   "cell_type": "markdown",
   "metadata": {},
   "source": [
    "#### The target values are almost balanced.  "
   ]
  },
  {
   "cell_type": "markdown",
   "metadata": {},
   "source": [
    "####  <span style=\"color:darkblue\"> 2. Change the dummy variables to integers. "
   ]
  },
  {
   "cell_type": "code",
   "execution_count": 31,
   "metadata": {},
   "outputs": [],
   "source": [
    "X=pd.DataFrame()\n",
    "dict0={'Strark':0, 'Berton':1, 'Wrouver':2}\n",
    "X['city_name']=df['city_name'].map(dict0)\n",
    "\n",
    "dict1={'R2D':0,'Dost':1,'Referral':2,'Organic':3,'Paid':4}\n",
    "X['signup_channel']=df['signup_channel'].map(dict1)\n",
    "\n",
    "df.vehicle_make = pd.Categorical(df.vehicle_make)\n",
    "X['vehicle_make_code'] = df.vehicle_make.cat.codes\n",
    "\n",
    "df.vehicle_model = pd.Categorical(df.vehicle_model)\n",
    "X['vehicle_model_code'] = df.vehicle_model.cat.codes"
   ]
  },
  {
   "cell_type": "code",
   "execution_count": 32,
   "metadata": {},
   "outputs": [
    {
     "data": {
      "text/html": [
       "<div>\n",
       "<style scoped>\n",
       "    .dataframe tbody tr th:only-of-type {\n",
       "        vertical-align: middle;\n",
       "    }\n",
       "\n",
       "    .dataframe tbody tr th {\n",
       "        vertical-align: top;\n",
       "    }\n",
       "\n",
       "    .dataframe thead th {\n",
       "        text-align: right;\n",
       "    }\n",
       "</style>\n",
       "<table border=\"1\" class=\"dataframe\">\n",
       "  <thead>\n",
       "    <tr style=\"text-align: right;\">\n",
       "      <th></th>\n",
       "      <th>city_name</th>\n",
       "      <th>signup_channel</th>\n",
       "      <th>vehicle_make_code</th>\n",
       "      <th>vehicle_model_code</th>\n",
       "    </tr>\n",
       "  </thead>\n",
       "  <tbody>\n",
       "    <tr>\n",
       "      <th>count</th>\n",
       "      <td>10601.000000</td>\n",
       "      <td>10601.000000</td>\n",
       "      <td>10601.000000</td>\n",
       "      <td>10601.000000</td>\n",
       "    </tr>\n",
       "    <tr>\n",
       "      <th>mean</th>\n",
       "      <td>0.573625</td>\n",
       "      <td>1.979813</td>\n",
       "      <td>25.365626</td>\n",
       "      <td>200.097727</td>\n",
       "    </tr>\n",
       "    <tr>\n",
       "      <th>std</th>\n",
       "      <td>0.714327</td>\n",
       "      <td>1.203363</td>\n",
       "      <td>14.774413</td>\n",
       "      <td>132.260472</td>\n",
       "    </tr>\n",
       "    <tr>\n",
       "      <th>min</th>\n",
       "      <td>0.000000</td>\n",
       "      <td>0.000000</td>\n",
       "      <td>0.000000</td>\n",
       "      <td>0.000000</td>\n",
       "    </tr>\n",
       "    <tr>\n",
       "      <th>25%</th>\n",
       "      <td>0.000000</td>\n",
       "      <td>2.000000</td>\n",
       "      <td>13.000000</td>\n",
       "      <td>88.000000</td>\n",
       "    </tr>\n",
       "    <tr>\n",
       "      <th>50%</th>\n",
       "      <td>0.000000</td>\n",
       "      <td>2.000000</td>\n",
       "      <td>22.000000</td>\n",
       "      <td>168.000000</td>\n",
       "    </tr>\n",
       "    <tr>\n",
       "      <th>75%</th>\n",
       "      <td>1.000000</td>\n",
       "      <td>2.000000</td>\n",
       "      <td>44.000000</td>\n",
       "      <td>303.000000</td>\n",
       "    </tr>\n",
       "    <tr>\n",
       "      <th>max</th>\n",
       "      <td>2.000000</td>\n",
       "      <td>4.000000</td>\n",
       "      <td>46.000000</td>\n",
       "      <td>472.000000</td>\n",
       "    </tr>\n",
       "  </tbody>\n",
       "</table>\n",
       "</div>"
      ],
      "text/plain": [
       "          city_name  signup_channel  vehicle_make_code  vehicle_model_code\n",
       "count  10601.000000    10601.000000       10601.000000        10601.000000\n",
       "mean       0.573625        1.979813          25.365626          200.097727\n",
       "std        0.714327        1.203363          14.774413          132.260472\n",
       "min        0.000000        0.000000           0.000000            0.000000\n",
       "25%        0.000000        2.000000          13.000000           88.000000\n",
       "50%        0.000000        2.000000          22.000000          168.000000\n",
       "75%        1.000000        2.000000          44.000000          303.000000\n",
       "max        2.000000        4.000000          46.000000          472.000000"
      ]
     },
     "execution_count": 32,
     "metadata": {},
     "output_type": "execute_result"
    }
   ],
   "source": [
    "X.describe()"
   ]
  },
  {
   "cell_type": "markdown",
   "metadata": {},
   "source": [
    " #### <span style=\"color:darkblue\">3- Create two time columns:\n",
    "- time1 which is the time difference in seconds between the background check and the signup.\n",
    "- time2 which is the time differece in seconds between the background check and the vehicle added date."
   ]
  },
  {
   "cell_type": "code",
   "execution_count": 33,
   "metadata": {},
   "outputs": [],
   "source": [
    "X['Day']=(df['signup_timestamp']).dt.day\n",
    "X['Weekday']=(df['signup_timestamp']).dt.dayofweek\n",
    "X['Hour']=(df['signup_timestamp']).dt.hour\n",
    "\n",
    "X['time1']=(df['bgc_date']-df['signup_timestamp']).dt.seconds\n",
    "X['time2']=(df['signup_timestamp']-df['vehicle_added_date']).dt.seconds"
   ]
  },
  {
   "cell_type": "code",
   "execution_count": 34,
   "metadata": {},
   "outputs": [
    {
     "data": {
      "text/html": [
       "<div>\n",
       "<style scoped>\n",
       "    .dataframe tbody tr th:only-of-type {\n",
       "        vertical-align: middle;\n",
       "    }\n",
       "\n",
       "    .dataframe tbody tr th {\n",
       "        vertical-align: top;\n",
       "    }\n",
       "\n",
       "    .dataframe thead th {\n",
       "        text-align: right;\n",
       "    }\n",
       "</style>\n",
       "<table border=\"1\" class=\"dataframe\">\n",
       "  <thead>\n",
       "    <tr style=\"text-align: right;\">\n",
       "      <th></th>\n",
       "      <th>city_name</th>\n",
       "      <th>signup_channel</th>\n",
       "      <th>vehicle_make_code</th>\n",
       "      <th>vehicle_model_code</th>\n",
       "      <th>Day</th>\n",
       "      <th>Weekday</th>\n",
       "      <th>Hour</th>\n",
       "      <th>time1</th>\n",
       "      <th>time2</th>\n",
       "    </tr>\n",
       "  </thead>\n",
       "  <tbody>\n",
       "    <tr>\n",
       "      <th>0</th>\n",
       "      <td>0</td>\n",
       "      <td>0</td>\n",
       "      <td>45</td>\n",
       "      <td>69</td>\n",
       "      <td>6</td>\n",
       "      <td>3</td>\n",
       "      <td>20</td>\n",
       "      <td>0</td>\n",
       "      <td>86361</td>\n",
       "    </tr>\n",
       "    <tr>\n",
       "      <th>1</th>\n",
       "      <td>1</td>\n",
       "      <td>1</td>\n",
       "      <td>44</td>\n",
       "      <td>11</td>\n",
       "      <td>3</td>\n",
       "      <td>0</td>\n",
       "      <td>17</td>\n",
       "      <td>59</td>\n",
       "      <td>86393</td>\n",
       "    </tr>\n",
       "    <tr>\n",
       "      <th>2</th>\n",
       "      <td>1</td>\n",
       "      <td>0</td>\n",
       "      <td>15</td>\n",
       "      <td>139</td>\n",
       "      <td>10</td>\n",
       "      <td>0</td>\n",
       "      <td>22</td>\n",
       "      <td>0</td>\n",
       "      <td>18645</td>\n",
       "    </tr>\n",
       "    <tr>\n",
       "      <th>3</th>\n",
       "      <td>1</td>\n",
       "      <td>2</td>\n",
       "      <td>13</td>\n",
       "      <td>101</td>\n",
       "      <td>27</td>\n",
       "      <td>3</td>\n",
       "      <td>18</td>\n",
       "      <td>262</td>\n",
       "      <td>86172</td>\n",
       "    </tr>\n",
       "    <tr>\n",
       "      <th>4</th>\n",
       "      <td>2</td>\n",
       "      <td>2</td>\n",
       "      <td>13</td>\n",
       "      <td>34</td>\n",
       "      <td>17</td>\n",
       "      <td>0</td>\n",
       "      <td>22</td>\n",
       "      <td>34</td>\n",
       "      <td>86382</td>\n",
       "    </tr>\n",
       "  </tbody>\n",
       "</table>\n",
       "</div>"
      ],
      "text/plain": [
       "   city_name  signup_channel  vehicle_make_code  vehicle_model_code  Day  \\\n",
       "0          0               0                 45                  69    6   \n",
       "1          1               1                 44                  11    3   \n",
       "2          1               0                 15                 139   10   \n",
       "3          1               2                 13                 101   27   \n",
       "4          2               2                 13                  34   17   \n",
       "\n",
       "   Weekday  Hour  time1  time2  \n",
       "0        3    20      0  86361  \n",
       "1        0    17     59  86393  \n",
       "2        0    22      0  18645  \n",
       "3        3    18    262  86172  \n",
       "4        0    22     34  86382  "
      ]
     },
     "execution_count": 34,
     "metadata": {},
     "output_type": "execute_result"
    }
   ],
   "source": [
    "X.head()"
   ]
  },
  {
   "cell_type": "markdown",
   "metadata": {},
   "source": [
    " #### <span style=\"color:darkblue\">4- Splitting the data to train and test, normalizing the data"
   ]
  },
  {
   "cell_type": "code",
   "execution_count": 35,
   "metadata": {},
   "outputs": [],
   "source": [
    "X_train, X_test, y_train, y_test = train_test_split(X, y, test_size = 0.2,random_state=55)\n",
    "\n",
    "sc = StandardScaler()  \n",
    "X_train = sc.fit_transform(X_train)  \n",
    "X_test = sc.transform(X_test) "
   ]
  },
  {
   "cell_type": "markdown",
   "metadata": {},
   "source": [
    " #### <span style=\"color:darkblue\"> 5- Start with Logstic Regression"
   ]
  },
  {
   "cell_type": "code",
   "execution_count": 36,
   "metadata": {},
   "outputs": [
    {
     "name": "stdout",
     "output_type": "stream",
     "text": [
      "Correct accuracy of the train set with Logistic Regression is: 54.3042 %\n",
      "Correct accuracy of the test set with Logistic Regression is: 55.9642 %\n",
      "\n",
      "Logistic Regression score mean with cross val is: 54.1741 %\n",
      "Total elapsed time is: 1.9729  sec\n",
      "\n",
      "Confusion Matrix is:\n",
      "[[  73  868]\n",
      " [  66 1114]]\n",
      "\n",
      "Logistic Regression log_loss is: 15.2098\n",
      "\n",
      "Average precision-recall score: 0.5617\n"
     ]
    }
   ],
   "source": [
    "LogClassifier= LogisticRegression()\n",
    "LogClassifier.fit(X_train, y_train)\n",
    "y_pred=LogClassifier.predict(X_test)\n",
    "y_pred_prob=LogClassifier.predict_proba(X_test)[:, 1]\n",
    "\n",
    "\n",
    "print('Correct accuracy of the train set with Logistic Regression is:', round(LogClassifier.score(X_train,y_train)*100,4),'%')\n",
    "print('Correct accuracy of the test set with Logistic Regression is:', round(LogClassifier.score(X_test,y_test)*100,4),'%')\n",
    "print('')\n",
    "start=time.time()\n",
    "LogScores = cross_val_score(LogClassifier, X, y, cv=10)\n",
    "end=time.time()\n",
    "print('Logistic Regression score mean with cross val is:',round(np.mean(LogScores)*100,4),'%')\n",
    "print('Total elapsed time is:', round(end-start,4),' sec')\n",
    "print('')\n",
    "print('Confusion Matrix is:')\n",
    "print(confusion_matrix(y_test, y_pred))\n",
    "print('')\n",
    "print('Logistic Regression log_loss is:',round(log_loss(y_test, y_pred),4))\n",
    "\n",
    "average_precision = average_precision_score(y_test, y_pred)\n",
    "print('')\n",
    "print('Average precision-recall score: {0:0.4f}'.format(average_precision))"
   ]
  },
  {
   "cell_type": "code",
   "execution_count": 37,
   "metadata": {},
   "outputs": [
    {
     "data": {
      "image/png": "[encoded data removed]",
      "text/plain": [
       "<Figure size 432x288 with 1 Axes>"
      ]
     },
     "metadata": {},
     "output_type": "display_data"
    }
   ],
   "source": [
    "fpr, tpr, thresholds=roc_curve(y_test, y_pred_prob)\n",
    "roc_auc = auc(fpr, tpr)\n",
    "\n",
    "\n",
    "plt.figure()\n",
    "lw = 2\n",
    "plt.plot(fpr, tpr, color='darkorange',lw=lw, label='ROC curve for Logistic Regression (area = %0.2f)' % roc_auc)\n",
    "plt.plot([0, 1], [0, 1],lw=lw, color='navy', linestyle='--')\n",
    "plt.xlim([0.0, 1.0])\n",
    "plt.ylim([0.0, 1.05])\n",
    "plt.xlabel('False Positive Rate (1 - Specificity)')\n",
    "plt.ylabel('True Positive Rate (Sensitivity)')\n",
    "plt.title('ROC for Testing')\n",
    "plt.legend(loc=\"lower right\")\n",
    "plt.grid(True)\n",
    "plt.show()"
   ]
  },
  {
   "cell_type": "markdown",
   "metadata": {},
   "source": [
    "#### I looks like that we do not have enough obeservations to make a good prediction model with Logistic Regression. Even the train accuracy is less than the test accuracy, and the model is underfitted.  The AUC is also 0.51 which is very low. But lets try other nonlinear models."
   ]
  },
  {
   "cell_type": "markdown",
   "metadata": {},
   "source": [
    " #### <span style=\"color:darkblue\"> 6- Check RandomForest"
   ]
  },
  {
   "cell_type": "code",
   "execution_count": 38,
   "metadata": {},
   "outputs": [
    {
     "name": "stdout",
     "output_type": "stream",
     "text": [
      "Correct accuracy of the train set with Random Forest Classifier is: 98.5142 %\n",
      "Correct accuracy of the test set with Random Forest Classifier is: 51.8623 %\n",
      "\n",
      "Random Forest score mean with cross val is: 52.0706 %\n",
      "Total elapsed time is: 5.2361  sec\n",
      "\n",
      "Confusion Matrix is:\n",
      "[[523 418]\n",
      " [603 577]]\n",
      "\n",
      "Random Forest log_loss is: 16.6263\n",
      "\n",
      "Average precision-recall score: 0.5679\n"
     ]
    }
   ],
   "source": [
    "RandClassifier= RandomForestClassifier()\n",
    "RandClassifier.fit(X_train, y_train)\n",
    "y_pred=RandClassifier.predict(X_test)\n",
    "y_pred_prob=RandClassifier.predict_proba(X_test)[:, 1]\n",
    "\n",
    "\n",
    "print('Correct accuracy of the train set with Random Forest Classifier is:', round(RandClassifier.score(X_train,y_train)*100,4),'%')\n",
    "print('Correct accuracy of the test set with Random Forest Classifier is:', round(RandClassifier.score(X_test,y_test)*100,4),'%')\n",
    "print('')\n",
    "start=time.time()\n",
    "RandScores = cross_val_score(RandClassifier, X, y, cv=10)\n",
    "end=time.time()\n",
    "print('Random Forest score mean with cross val is:',round(np.mean(RandScores)*100,4),'%')\n",
    "print('Total elapsed time is:', round(end-start,4),' sec')\n",
    "print('')\n",
    "print('Confusion Matrix is:')\n",
    "print(confusion_matrix(y_test, y_pred))\n",
    "print('')\n",
    "print('Random Forest log_loss is:',round(log_loss(y_test, y_pred),4))\n",
    "average_precision = average_precision_score(y_test, y_pred)\n",
    "print('')\n",
    "print('Average precision-recall score: {0:0.4f}'.format(average_precision))"
   ]
  },
  {
   "cell_type": "code",
   "execution_count": 39,
   "metadata": {},
   "outputs": [
    {
     "data": {
      "image/png": "[encoded data removed]",
      "text/plain": [
       "<Figure size 432x288 with 1 Axes>"
      ]
     },
     "metadata": {},
     "output_type": "display_data"
    }
   ],
   "source": [
    "fpr, tpr, thresholds=roc_curve(y_test, y_pred_prob)\n",
    "roc_auc = auc(fpr, tpr)\n",
    "\n",
    "\n",
    "plt.figure()\n",
    "lw = 2\n",
    "plt.plot(fpr, tpr, color='darkorange',lw=lw, label='ROC curve for Logistic Regression (area = %0.2f)' % roc_auc)\n",
    "plt.plot([0, 1], [0, 1],lw=lw, color='navy', linestyle='--')\n",
    "plt.xlim([0.0, 1.0])\n",
    "plt.ylim([0.0, 1.05])\n",
    "plt.xlabel('False Positive Rate (1 - Specificity)')\n",
    "plt.ylabel('True Positive Rate (Sensitivity)')\n",
    "plt.title('ROC for Testing')\n",
    "plt.legend(loc=\"lower right\")\n",
    "plt.grid(True)\n",
    "plt.show()"
   ]
  },
  {
   "cell_type": "markdown",
   "metadata": {},
   "source": [
    "#### Random forest is overfitted. We have a hight training accuracy but very low test accuracy. The AUC is also very low. Now I try different max_depth and min_samples_leaf to overcome the overfitting.\n",
    "\n",
    "- n_estimators: In general the more trees the less likely the algorithm is to overfit. The lower this number, the closer the model is to a decision tree, with a restricted feature set.\n",
    "\n",
    "- max_depth: Larger number will reduce the complexity of the learned models, lowering over fitting risk.\n",
    "\n",
    "- min_samples_leaf: This has a similar effect to the max_depth parameter, it means the branch will stop splitting once the leaves have that number of samples each."
   ]
  },
  {
   "cell_type": "code",
   "execution_count": 40,
   "metadata": {},
   "outputs": [
    {
     "name": "stdout",
     "output_type": "stream",
     "text": [
      "Correct accuracy of the train set with Random Forest Classifier is: 67.4175 %\n",
      "Correct accuracy of the test set with Random Forest Classifier is: 55.7756 %\n",
      "\n",
      "Random Forest score Mean with cross val is: 55.7118 %\n",
      "Total elapsed time is: 2.6921  sec\n",
      "\n",
      "Confusion Matrix is:\n",
      "[[361 580]\n",
      " [358 822]]\n",
      "\n",
      "Random Forest log_loss is: 15.2748\n",
      "\n",
      "Average precision-recall score: 0.5772\n"
     ]
    }
   ],
   "source": [
    "RandClassifier= RandomForestClassifier(n_estimators=10,max_depth=10,min_samples_leaf=10,random_state=0)\n",
    "RandClassifier.fit(X_train, y_train)\n",
    "y_pred=RandClassifier.predict(X_test)\n",
    "y_pred_prob=RandClassifier.predict_proba(X_test)[:, 1]\n",
    "\n",
    "print('Correct accuracy of the train set with Random Forest Classifier is:', round(RandClassifier.score(X_train,y_train)*100,4),'%')\n",
    "print('Correct accuracy of the test set with Random Forest Classifier is:', round(RandClassifier.score(X_test,y_test)*100,4),'%')\n",
    "print('')\n",
    "start=time.time()\n",
    "RandScores = cross_val_score(RandClassifier, X, y, cv=10)\n",
    "end=time.time()\n",
    "print('Random Forest score Mean with cross val is:',round(np.mean(RandScores)*100,4),'%')\n",
    "print('Total elapsed time is:', round(end-start,4),' sec')\n",
    "print('')\n",
    "print('Confusion Matrix is:')\n",
    "print(confusion_matrix(y_test, y_pred))\n",
    "print('')\n",
    "print('Random Forest log_loss is:',round(log_loss(y_test, y_pred),4))\n",
    "average_precision = average_precision_score(y_test, y_pred)\n",
    "print('')\n",
    "print('Average precision-recall score: {0:0.4f}'.format(average_precision))"
   ]
  },
  {
   "cell_type": "code",
   "execution_count": 41,
   "metadata": {},
   "outputs": [
    {
     "data": {
      "image/png": "[encoded data removed]",
      "text/plain": [
       "<Figure size 432x288 with 1 Axes>"
      ]
     },
     "metadata": {},
     "output_type": "display_data"
    }
   ],
   "source": [
    "fpr, tpr, thresholds=roc_curve(y_test, y_pred_prob)\n",
    "roc_auc = auc(fpr, tpr)\n",
    "\n",
    "\n",
    "plt.figure()\n",
    "lw = 2\n",
    "plt.plot(fpr, tpr, color='darkorange',lw=lw, label='ROC curve for Logistic Regression (area = %0.2f)' % roc_auc)\n",
    "plt.plot([0, 1], [0, 1],lw=lw, color='navy', linestyle='--')\n",
    "plt.xlim([0.0, 1.0])\n",
    "plt.ylim([0.0, 1.05])\n",
    "plt.xlabel('False Positive Rate (1 - Specificity)')\n",
    "plt.ylabel('True Positive Rate (Sensitivity)')\n",
    "plt.title('ROC for Testing')\n",
    "plt.legend(loc=\"lower right\")\n",
    "plt.grid(True)\n",
    "plt.show()"
   ]
  },
  {
   "cell_type": "markdown",
   "metadata": {},
   "source": [
    "#### The model is now underfitted with the new variables and the AUC is still very low. I try Gradient Bootstrapping technique which is more robust than Random Forest."
   ]
  },
  {
   "cell_type": "markdown",
   "metadata": {},
   "source": [
    " #### <span style=\"color:darkblue\">  7- Try Gradient boosting classifier."
   ]
  },
  {
   "cell_type": "code",
   "execution_count": 42,
   "metadata": {},
   "outputs": [
    {
     "name": "stdout",
     "output_type": "stream",
     "text": [
      "Correct accuracy of the train set with Gradient Boosting Classifier is: 62.8066 %\n",
      "Correct accuracy of the test set with Gradient Boosting Classifier is: 56.8128 %\n",
      "\n",
      "Gradient boosting score Mean with cross val is: 56.7965 %\n",
      "Total elapsed time is: 7.8506  sec\n",
      "\n",
      "Confusion Matrix is:\n",
      "[[365 576]\n",
      " [340 840]]\n",
      "\n",
      "GradClassifier log_loss is: 14.9165\n",
      "\n",
      "Average precision-recall score: 0.5826\n"
     ]
    }
   ],
   "source": [
    "GradClassifier = GradientBoostingClassifier()\n",
    "GradClassifier.fit(X_train, y_train)\n",
    "y_pred=GradClassifier.predict(X_test)\n",
    "y_pred_prob=GradClassifier.predict_proba(X_test)[:, 1]\n",
    "\n",
    "print('Correct accuracy of the train set with Gradient Boosting Classifier is:', round(GradClassifier.score(X_train,y_train)*100,4),'%')\n",
    "print('Correct accuracy of the test set with Gradient Boosting Classifier is:', round(GradClassifier.score(X_test,y_test)*100,4),'%')\n",
    "print('')\n",
    "start=time.time()\n",
    "GradScores = cross_val_score(GradClassifier, X, y, cv=10)\n",
    "end=time.time()\n",
    "print('Gradient boosting score Mean with cross val is:',round(np.mean(GradScores)*100,4),'%')\n",
    "print('Total elapsed time is:', round(end-start,4),' sec')\n",
    "print('')\n",
    "print('Confusion Matrix is:')\n",
    "print(confusion_matrix(y_test, y_pred))\n",
    "print('')\n",
    "print('GradClassifier log_loss is:',round(log_loss(y_test, y_pred),4))\n",
    "average_precision = average_precision_score(y_test, y_pred)\n",
    "print('')\n",
    "average_precision = average_precision_score(y_test, y_pred)\n",
    "print('Average precision-recall score: {0:0.4f}'.format(average_precision))\n"
   ]
  },
  {
   "cell_type": "code",
   "execution_count": 43,
   "metadata": {},
   "outputs": [
    {
     "data": {
      "image/png": "[encoded data removed]",
      "text/plain": [
       "<Figure size 432x288 with 1 Axes>"
      ]
     },
     "metadata": {},
     "output_type": "display_data"
    }
   ],
   "source": [
    "fpr, tpr, thresholds=roc_curve(y_test, y_pred_prob)\n",
    "roc_auc = auc(fpr, tpr)\n",
    "\n",
    "plt.figure()\n",
    "lw = 2\n",
    "plt.plot(fpr, tpr, color='darkorange',lw=lw, label='ROC curve for Logistic Regression (area = %0.2f)' % roc_auc)\n",
    "plt.plot([0, 1], [0, 1],lw=lw, color='navy', linestyle='--')\n",
    "plt.xlim([0.0, 1.0])\n",
    "plt.ylim([0.0, 1.05])\n",
    "plt.xlabel('False Positive Rate (1 - Specificity)')\n",
    "plt.ylabel('True Positive Rate (Sensitivity)')\n",
    "plt.title('ROC for Testing')\n",
    "plt.legend(loc=\"lower right\")\n",
    "plt.grid(True)\n",
    "plt.show()"
   ]
  },
  {
   "cell_type": "markdown",
   "metadata": {},
   "source": [
    "#### We have the same problem as we had with previous classifiers. I try KNN and SVM next."
   ]
  },
  {
   "cell_type": "markdown",
   "metadata": {},
   "source": [
    " #### <span style=\"color:darkblue\">  8- Try KNN classifier"
   ]
  },
  {
   "cell_type": "code",
   "execution_count": 44,
   "metadata": {},
   "outputs": [
    {
     "name": "stdout",
     "output_type": "stream",
     "text": [
      "Correct accuracy with KNN Classifier is: 69.8939 %\n",
      "Correct accuracy with KNN Classifier is: 51.5323 %\n",
      "\n",
      "KNN score Mean with cross val is: 50.4103 %\n",
      "Total elapsed time is: 0.4372  sec\n",
      "\n",
      "Confusion Matrix is:\n",
      "[[405 536]\n",
      " [492 688]]\n",
      "\n",
      "KnnClassifier log_loss is: 16.7404\n",
      "\n",
      "Average precision-recall score: 0.5597\n"
     ]
    }
   ],
   "source": [
    "KnnClassifier=KNeighborsClassifier()\n",
    "KnnClassifier.fit(X_train, y_train)\n",
    "y_pred=KnnClassifier.predict(X_test)\n",
    "y_pred_prob=KnnClassifier.predict_proba(X_test)[:, 1]\n",
    "\n",
    "print('Correct accuracy with KNN Classifier is:', round(KnnClassifier.score(X_train,y_train)*100,4),'%')\n",
    "print('Correct accuracy with KNN Classifier is:', round(KnnClassifier.score(X_test,y_test)*100,4),'%')\n",
    "print('')\n",
    "start=time.time()\n",
    "KnnScores = cross_val_score(KnnClassifier, X, y, cv=10)\n",
    "end=time.time()\n",
    "print('KNN score Mean with cross val is:',round(np.mean(KnnScores)*100,4),'%')\n",
    "print('Total elapsed time is:', round(end-start,4),' sec')\n",
    "print('')\n",
    "print('Confusion Matrix is:')\n",
    "print(confusion_matrix(y_test, y_pred))\n",
    "print('')\n",
    "print('KnnClassifier log_loss is:',round(log_loss(y_test, y_pred),4))\n",
    "print('')\n",
    "average_precision = average_precision_score(y_test, y_pred)\n",
    "print('Average precision-recall score: {0:0.4f}'.format(average_precision))"
   ]
  },
  {
   "cell_type": "code",
   "execution_count": 45,
   "metadata": {},
   "outputs": [
    {
     "data": {
      "image/png": "[encoded data removed]",
      "text/plain": [
       "<Figure size 432x288 with 1 Axes>"
      ]
     },
     "metadata": {},
     "output_type": "display_data"
    }
   ],
   "source": [
    "fpr, tpr, thresholds=roc_curve(y_test, y_pred_prob)\n",
    "roc_auc = auc(fpr, tpr)\n",
    "\n",
    "plt.figure()\n",
    "lw = 2\n",
    "plt.plot(fpr, tpr, color='darkorange',lw=lw, label='ROC curve for Logistic Regression (area = %0.2f)' % roc_auc)\n",
    "plt.plot([0, 1], [0, 1],lw=lw, color='navy', linestyle='--')\n",
    "plt.xlim([0.0, 1.0])\n",
    "plt.ylim([0.0, 1.05])\n",
    "plt.xlabel('False Positive Rate (1 - Specificity)')\n",
    "plt.ylabel('True Positive Rate (Sensitivity)')\n",
    "plt.title('ROC for Testing')\n",
    "plt.legend(loc=\"lower right\")\n",
    "plt.grid(True)\n",
    "plt.show()"
   ]
  },
  {
   "cell_type": "markdown",
   "metadata": {},
   "source": [
    "#### KNN is not a good solution as well."
   ]
  },
  {
   "cell_type": "markdown",
   "metadata": {},
   "source": [
    " #### <span style=\"color:darkblue\">  8- Try SVM"
   ]
  },
  {
   "cell_type": "code",
   "execution_count": 46,
   "metadata": {},
   "outputs": [
    {
     "name": "stdout",
     "output_type": "stream",
     "text": [
      "Correct accuracy of the train set with SVM Classifier is: 69.1156 %\n",
      "Correct accuracy of the test set with SVM Classifier is: 53.5596 %\n",
      "\n",
      "Confusion Matrix is:\n",
      "[[342 599]\n",
      " [386 794]]\n",
      "\n",
      "SVM log_loss is: 16.0402\n",
      "\n",
      "Average precision-recall score: 0.5655\n"
     ]
    }
   ],
   "source": [
    "SVM=svm.SVC(kernel='rbf',gamma=.1,C=100)\n",
    "SVM.fit(X_train, y_train)  \n",
    "y_pred=SVM.predict(X_test)\n",
    "\n",
    "print('Correct accuracy of the train set with SVM Classifier is:', round(SVM.score(X_train,y_train)*100,4),'%')\n",
    "print('Correct accuracy of the test set with SVM Classifier is:', round(SVM.score(X_test,y_test)*100,4),'%')\n",
    "print('')\n",
    "print('Confusion Matrix is:')\n",
    "print(confusion_matrix(y_test, y_pred))\n",
    "print('')\n",
    "print('SVM log_loss is:',round(log_loss(y_test, y_pred),4))\n",
    "print('')\n",
    "average_precision = average_precision_score(y_test, y_pred)\n",
    "print('Average precision-recall score: {0:0.4f}'.format(average_precision))"
   ]
  },
  {
   "cell_type": "markdown",
   "metadata": {},
   "source": [
    "#### The correct accuracy is higher with SVM comparing with other classification techniques. However SVM is slower, and the parameters of the RBF Kernel needs to be tuned."
   ]
  },
  {
   "cell_type": "markdown",
   "metadata": {},
   "source": [
    " #### <span style=\"color:darkblue\">I faced a high bias in all classifiers. High Bias emerges when the model is under fitted to the underlying data and we have a high error in both the train and test set. And as it is shown, all models provide very close AUC score (low value), log_loss score (high value), and precision_recall score. Which ensure us about the lack of information and observation. The best solution is increasing the number of input features and also the number of observations. In other words, we need a bigger dataset to make a good prediction."
   ]
  },
  {
   "cell_type": "markdown",
   "metadata": {},
   "source": [
    "### Part C\n",
    "*Briefly discuss how Uber might leverage the insights gained from the model to generate more first trips (again, a few ideas/sentences will suffice).*\n",
    "    \n",
    "\n"
   ]
  },
  {
   "cell_type": "markdown",
   "metadata": {},
   "source": [
    " #### <span style=\"color:darkblue\"> Since the data did not have enough observation and features I could not provide a good model predictive model. However, I give some ideas that I think may leverage the insights:\n",
    "    \n",
    "<span style=\"color:darkblue\">1- Uber can add more information of each driver: age, gender, race, other sources of income, mileage on the vehicle, color of the vehicle, ... . In this case, providing a good predictive model would be easier as well.\n",
    "\n",
    "<span style=\"color:darkblue\">2- Uber can focus to process the clearance of each driver faster.\n",
    "\n",
    " <span style=\"color:darkblue\">3- Uber can follow up through the signup channel to see why the drivers who has registered have not started their trip yet.\n",
    "\n",
    " <span style=\"color:darkblue\">4- Uber can provide promotions. For example Uber can offer more payment to drivers who start their first trip in less than a week.\n",
    "\n",
    "\n",
    "\n"
   ]
  }
 ],
 "metadata": {
  "kernelspec": {
   "display_name": "Python 3",
   "language": "python",
   "name": "python3"
  },
  "language_info": {
   "codemirror_mode": {
    "name": "ipython",
    "version": 3
   },
   "file_extension": ".py",
   "mimetype": "text/x-python",
   "name": "python",
   "nbconvert_exporter": "python",
   "pygments_lexer": "ipython3",
   "version": "3.6.5"
  }
 },
 "nbformat": 4,
 "nbformat_minor": 2
}
